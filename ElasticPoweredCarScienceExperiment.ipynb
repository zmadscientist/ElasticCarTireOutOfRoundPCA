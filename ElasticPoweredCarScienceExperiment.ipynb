{
 "cells": [
  {
   "cell_type": "markdown",
   "id": "3303962f-c769-4cb5-83b5-afef744b5d3b",
   "metadata": {},
   "source": [
    "# Elastic Powered Car: science experiment\n",
    "\n",
    "Science Olympiad results - simulated"
   ]
  },
  {
   "cell_type": "code",
   "execution_count": null,
   "id": "dcf09c38-494d-4a74-9261-19327f1e5d12",
   "metadata": {
    "ExecuteTime": {
     "end_time": "2024-04-10T05:36:06.317771Z",
     "start_time": "2024-04-10T05:36:06.226863Z"
    }
   },
   "outputs": [],
   "source": [
    "import numpy as np\n",
    "import pandas as pd\n",
    "import matplotlib.pyplot as plt\n",
    "\n",
    "v  = .45\n",
    "d0 = 0\n",
    "df = 10\n",
    "\n",
    "\n",
    "d = np.random.uniform(low = d0, high = df, size = 10000)\n",
    "t = d/v\n",
    "diam = 10 * 2.54 / 100 #10 in , 25.4 cm, .254 m\n",
    "print(\"diameter [m] =\", diam)\n",
    "d_wobble = .015 *np.cos(2 * np.pi * d /diam) # inches\n",
    "print(\"wobble [m] =\", d_wobble.min(), d_wobble.max())\n",
    "d = d + d_wobble\n",
    "\n",
    "plt.scatter( t, d, s = 1)"
   ]
  },
  {
   "cell_type": "code",
   "execution_count": null,
   "id": "df0352d3-5925-4341-882d-944a4f5749a7",
   "metadata": {
    "ExecuteTime": {
     "end_time": "2024-04-10T05:36:21.730388Z",
     "start_time": "2024-04-10T05:36:21.631090Z"
    }
   },
   "outputs": [],
   "source": [
    "from sklearn.linear_model import LinearRegression\n",
    "model = LinearRegression()\n",
    "X = np.stack([t,d])\n",
    "XS = np.sort(X)\n",
    "t = XS[0]\n",
    "d = XS[1]\n",
    "model.fit(t.reshape(-1,1), d)\n",
    "predictions = model.predict(t.reshape(-1,1))\n",
    "plt.scatter(t, d-predictions, s = 1)"
   ]
  },
  {
   "cell_type": "code",
   "execution_count": null,
   "id": "0945b550-564e-4c4a-80ed-2e1429fa6183",
   "metadata": {
    "ExecuteTime": {
     "end_time": "2024-04-10T04:41:26.046770Z",
     "start_time": "2024-04-10T04:41:25.949638Z"
    }
   },
   "outputs": [],
   "source": [
    "plt.plot(t[:100],d[:100]-predictions[:100])\n",
    "plt.grid()"
   ]
  },
  {
   "cell_type": "code",
   "execution_count": null,
   "id": "b4b006f3-0a22-4502-8983-8023c10331e2",
   "metadata": {
    "ExecuteTime": {
     "end_time": "2024-04-10T05:36:52.108581Z",
     "start_time": "2024-04-10T05:36:51.515260Z"
    }
   },
   "outputs": [],
   "source": [
    "from sklearn.decomposition import PCA\n",
    "X = np.stack([t,d], axis=0).T\n",
    "pca = PCA(n_components=2)\n",
    "PCA_X = pd.DataFrame( pca.fit_transform(X))\n",
    "print(pca.explained_variance_ratio_)\n",
    "print(pca.singular_values_)\n",
    "import seaborn as sns\n",
    "sns.pairplot(PCA_X)"
   ]
  },
  {
   "cell_type": "code",
   "execution_count": null,
   "id": "1629f8f8-59f5-4472-b745-c70c0f7793b4",
   "metadata": {
    "ExecuteTime": {
     "end_time": "2024-04-10T05:37:01.519397Z",
     "start_time": "2024-04-10T05:37:01.415164Z"
    }
   },
   "outputs": [],
   "source": [
    "PCA_Res = PCA_X.sort_values(by=[0])\n",
    "plt.scatter(PCA_Res[0], PCA_Res[1], s = 1)\n",
    "plt.grid()"
   ]
  },
  {
   "cell_type": "code",
   "execution_count": null,
   "id": "01d41079-81b4-4647-bf5d-4bcfe4cb57f2",
   "metadata": {
    "ExecuteTime": {
     "end_time": "2024-04-10T05:37:12.351497Z",
     "start_time": "2024-04-10T05:37:12.262707Z"
    }
   },
   "outputs": [],
   "source": [
    "P = 1000\n",
    "plt.plot(PCA_Res[0][:P], PCA_Res[1][:P]) \n",
    "plt.grid()"
   ]
  },
  {
   "cell_type": "code",
   "execution_count": null,
   "id": "5af6936d-579e-45b0-921b-1d748117d3d0",
   "metadata": {
    "ExecuteTime": {
     "end_time": "2024-04-10T05:37:23.831089Z",
     "start_time": "2024-04-10T05:37:23.705405Z"
    }
   },
   "outputs": [],
   "source": [
    "P0 = 0\n",
    "P1 = 250\n",
    "\n",
    "plt.plot(PCA_Res[0][P0:P1], PCA_Res[1][P0:P1]) \n",
    "plt.grid()\n",
    "print(np.where(PCA_Res[1][P0:P1] < -.0135))\n",
    "#np.sort(np.convolve(PCA_Res[1][P0:P1], [-1,1]))"
   ]
  },
  {
   "cell_type": "code",
   "execution_count": null,
   "id": "11342f91-64f5-426f-bea0-7ad40bee9b8e",
   "metadata": {
    "ExecuteTime": {
     "end_time": "2024-04-10T05:37:35.761544Z",
     "start_time": "2024-04-10T05:37:35.758826Z"
    }
   },
   "outputs": [],
   "source": [
    "proportion_samples = 246/10000\n",
    "estimated_diam = proportion_samples*10*100/2.54\n",
    "print(\"Estimated Diameter [in] =\",estimated_diam)"
   ]
  },
  {
   "cell_type": "code",
   "execution_count": null,
   "id": "da3ceb45-9e81-4c91-9819-04a583efd8ee",
   "metadata": {
    "ExecuteTime": {
     "end_time": "2024-04-10T05:38:00.975176Z",
     "start_time": "2024-04-10T05:38:00.968969Z"
    }
   },
   "outputs": [],
   "source": [
    "tdel = -PCA_Res[0][P0:P1].tolist()[0]+ PCA_Res[0][P0:P1].tolist()[-1]\n",
    "ddel = tdel*v\n",
    "print(\"tdel\",tdel)\n",
    "print(\"ddel\",ddel)\n",
    "print(\"Estimated Range of Diameters [in] =\\n\",(t[246] - t[0])*v/.0254, tdel*v/.0254)"
   ]
  },
  {
   "cell_type": "code",
   "execution_count": null,
   "id": "bde56032-3140-4274-948d-3886d33f46fd",
   "metadata": {},
   "outputs": [],
   "source": [
    "P = 100\n",
    "plt.plot(PCA_Res[0][:P], PCA_Res[1][:P]) \n",
    "plt.grid()\n"
   ]
  },
  {
   "cell_type": "code",
   "execution_count": null,
   "id": "943b5cb5-646d-4920-8134-44ed76ab2c39",
   "metadata": {},
   "outputs": [],
   "source": [
    "P0 = 45\n",
    "P1 = 75\n",
    "plt.plot(PCA_Res[0][P0:P1], PCA_Res[1][P0:P1]) \n",
    "plt.grid()\n",
    "# print(np.where(PCA_Res[1][P0:P1] < -.012))\n",
    "# print(\"Period in seconds\", (PCA_Res[0][P1] - PCA_Res[0][P0])) #sec\n",
    "# print(\"Distance in m for one Period at ,45 m/s = \", (PCA_Res[0][P1] - PCA_Res[0][P0])*.45)\n",
    "# diam_est = (PCA_Res[0][P1] - PCA_Res[0][P0])*.45/.254/(2*3.14)\n",
    "# print(\"est diam\", diam_est)\n",
    "\n",
    "np.where(PCA_Res[1] < -.0131)[0] \n"
   ]
  },
  {
   "cell_type": "code",
   "execution_count": null,
   "id": "d3bf472d-5d97-445d-9ca4-c0ad222b7185",
   "metadata": {},
   "outputs": [],
   "source": [
    "np.where(np.abs(PCA_Res[1][:P]) <.001)\n",
    "plt.plot(PCA_Res[0][17:56], PCA_Res[1][17:56]) \n",
    "plt.grid()\n",
    "PCA_Res[1][:P].argmin()\n",
    "100 * (PCA_Res[1][17] - PCA_Res[1][56])  # wavelength in cm"
   ]
  },
  {
   "cell_type": "code",
   "execution_count": null,
   "id": "0fa57f9a-85d0-4339-becd-a5d4b64ed2c5",
   "metadata": {},
   "outputs": [],
   "source": [
    "x = PCA_Res[1]\n",
    "t = PCA_Res[0]\n",
    "ft = np.fft.rfft(x)\n",
    "freqs = np.fft.rfftfreq(len(x), t[1]-t[0]) # Get frequency axis from the time axis\n",
    "mags = abs(ft) # We don't care about the phase information here\n",
    "plt.plot(freqs, mags)\n",
    "plt.show()\n",
    "print(\"max freq idx: \",mags.argmax())"
   ]
  },
  {
   "cell_type": "code",
   "execution_count": null,
   "id": "02bdeb1e-8bbe-4219-a19b-8ebbadce2646",
   "metadata": {},
   "outputs": [],
   "source": [
    "2*t[32]/(3.14159*.254) # time interval t[32], divid by pi and convert to inches\n",
    "print(\"est diameter of out of round wheel: \",2*t[32]/(3.14159*.254))"
   ]
  },
  {
   "cell_type": "code",
   "execution_count": null,
   "id": "cb81b261-f64e-4c34-9062-87b3d360344c",
   "metadata": {},
   "outputs": [],
   "source": [
    "result = np.correlate(x, x, mode='full')"
   ]
  },
  {
   "cell_type": "code",
   "execution_count": null,
   "id": "0b36042e-7653-4d47-bb8e-4d05350f1156",
   "metadata": {},
   "outputs": [],
   "source": [
    "plt.plot(result)\n",
    "plt.grid()"
   ]
  },
  {
   "cell_type": "code",
   "execution_count": null,
   "id": "f6c2b2de-0ce8-4499-846d-4fcfe568cef2",
   "metadata": {},
   "outputs": [],
   "source": [
    "plt.plot(result[:100])\n",
    "plt.grid()"
   ]
  },
  {
   "cell_type": "code",
   "execution_count": null,
   "id": "f9dd7b65-c479-428b-b7c1-3f01ca1c897a",
   "metadata": {},
   "outputs": [],
   "source": [
    "result[:80].argmin() - result[:50].argmin()"
   ]
  },
  {
   "cell_type": "code",
   "execution_count": null,
   "id": "bebdedae-c375-4d1e-aef2-aa8a7f8d7be9",
   "metadata": {},
   "outputs": [],
   "source": [
    "t[35]*.45*100/2.54/3.14159/2"
   ]
  },
  {
   "cell_type": "code",
   "execution_count": null,
   "id": "7d7e925b-718a-49f0-a115-5549ae41ed90",
   "metadata": {},
   "outputs": [],
   "source": [
    "x.min()"
   ]
  },
  {
   "cell_type": "code",
   "execution_count": null,
   "id": "4cdca7c6-36c8-4fb7-816c-7e827ceba54a",
   "metadata": {},
   "outputs": [],
   "source": []
  }
 ],
 "metadata": {
  "kernelspec": {
   "display_name": "mldl",
   "language": "python",
   "name": "mldl"
  },
  "language_info": {
   "codemirror_mode": {
    "name": "ipython",
    "version": 3
   },
   "file_extension": ".py",
   "mimetype": "text/x-python",
   "name": "python",
   "nbconvert_exporter": "python",
   "pygments_lexer": "ipython3",
   "version": "3.8.10"
  }
 },
 "nbformat": 4,
 "nbformat_minor": 5
}
